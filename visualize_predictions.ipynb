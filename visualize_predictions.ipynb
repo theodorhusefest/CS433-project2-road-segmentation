{
 "cells": [
  {
   "cell_type": "code",
   "execution_count": 1,
   "metadata": {},
   "outputs": [
    {
     "name": "stderr",
     "output_type": "stream",
     "text": [
      "Using TensorFlow backend.\n"
     ]
    }
   ],
   "source": [
    "from importlib import reload\n",
    "import src.UNET\n",
    "reload(src.UNET)\n",
    "\n",
    "import numpy as np\n",
    "from src.UNET import UNET\n",
    "from src.preprocessing import data_generator\n",
    "from keras.models import load_model, Model\n",
    "\n",
    "import matplotlib.pyplot as plt\n"
   ]
  },
  {
   "cell_type": "code",
   "execution_count": 61,
   "metadata": {},
   "outputs": [],
   "source": [
    "PATCH_SIZE = 80\n",
    "\n",
    "x_train, x_test, y_train, y_test = data_generator(PATCH_SIZE, num_images = 15, rotation_degs=[])\n",
    "\n",
    "#datagen = ImageDataGenerator(\n",
    " #   featurewise_std_normalization = True \n",
    "#)\n",
    "\n",
    "#datagen.fit(x_train)"
   ]
  },
  {
   "cell_type": "code",
   "execution_count": 9,
   "metadata": {},
   "outputs": [],
   "source": [
    "from keras.utils import to_categorical\n",
    "y_tr = np.copy(y_train)\n",
    "y_tr[y_tr >= 0.5] = 1\n",
    "y_tr[y_tr < 0.5] = 0"
   ]
  },
  {
   "cell_type": "code",
   "execution_count": 12,
   "metadata": {},
   "outputs": [
    {
     "data": {
      "text/plain": [
       "array([0., 1.], dtype=float32)"
      ]
     },
     "execution_count": 12,
     "metadata": {},
     "output_type": "execute_result"
    },
    {
     "data": {
      "image/png": "[encoded data removed]",
      "text/plain": [
       "<Figure size 720x720 with 2 Axes>"
      ]
     },
     "metadata": {
      "needs_background": "light"
     },
     "output_type": "display_data"
    }
   ],
   "source": [
    "n = 3\n",
    "plt.figure(figsize = (10,10))\n",
    "plt.subplot(1,2,1)\n",
    "plt.imshow(y_tr[n].reshape(PATCH_SIZE, PATCH_SIZE), cmap = 'Greys')\n",
    "plt.subplot(1,2,2)\n",
    "plt.imshow(y_train[n].reshape(PATCH_SIZE, PATCH_SIZE), cmap = 'Greys')\n",
    "np.unique(y_tr)"
   ]
  },
  {
   "cell_type": "code",
   "execution_count": 39,
   "metadata": {},
   "outputs": [],
   "source": [
    "y_t = to_categorical(y_tr)"
   ]
  },
  {
   "cell_type": "code",
   "execution_count": 62,
   "metadata": {},
   "outputs": [
    {
     "name": "stdout",
     "output_type": "stream",
     "text": [
      "Building model with 2 layers\n",
      "Filtersizes being used in UNET: [64, 128, 256]\n",
      "Bulding contraction layers at layer: 1 and filtersize: 64\n",
      "Bulding contraction layers at layer: 2 and filtersize: 128\n",
      "Building bottleneck at layer: 2 and filtersize: 256\n",
      "Building expansion at layer: 2 and filtersize: 128\n",
      "Building expansion at layer: 1 and filtersize: 64\n",
      "Compiling model...\n",
      "Model compiled.\n"
     ]
    }
   ],
   "source": [
    "unet = UNET(image_shape = (PATCH_SIZE, PATCH_SIZE, 3), layers = 2)\n",
    "unet.build_model()\n",
    "model = unet.get_model()"
   ]
  },
  {
   "cell_type": "code",
   "execution_count": 63,
   "metadata": {},
   "outputs": [],
   "source": [
    "model.load_weights('./models/weights04_14.52.h5')"
   ]
  },
  {
   "cell_type": "code",
   "execution_count": 54,
   "metadata": {},
   "outputs": [
    {
     "name": "stdout",
     "output_type": "stream",
     "text": [
      "75/75 [==============================] - 26s 345ms/step\n"
     ]
    },
    {
     "data": {
      "text/plain": [
       "[0.5951813888549805, 0.8101935386657715, 0.7937062382698059]"
      ]
     },
     "execution_count": 54,
     "metadata": {},
     "output_type": "execute_result"
    }
   ],
   "source": [
    "model.evaluate(x_test, y_t)"
   ]
  },
  {
   "cell_type": "code",
   "execution_count": 68,
   "metadata": {},
   "outputs": [
    {
     "data": {
      "text/plain": [
       "array([0])"
      ]
     },
     "execution_count": 68,
     "metadata": {},
     "output_type": "execute_result"
    }
   ],
   "source": [
    "n = 1\n",
    "pred = model.predict(x_train[n:n+1, :, :, :])\n",
    "#pred[pred >= 0.5] = 1\n",
    "#pred[pred < 0.5] = 0\n",
    "#pred = np.argmax(pred, axis = 3)\n",
    "np.unique(np.argmax(pred, axis = 3))\n",
    "#pred"
   ]
  },
  {
   "cell_type": "code",
   "execution_count": 60,
   "metadata": {},
   "outputs": [
    {
     "data": {
      "text/plain": [
       "<matplotlib.image.AxesImage at 0x65443d2d0>"
      ]
     },
     "execution_count": 60,
     "metadata": {},
     "output_type": "execute_result"
    },
    {
     "data": {
      "image/png": "[encoded data removed]",
      "text/plain": [
       "<Figure size 720x720 with 2 Axes>"
      ]
     },
     "metadata": {
      "needs_background": "light"
     },
     "output_type": "display_data"
    }
   ],
   "source": [
    "f = plt.figure(figsize = (10, 10))\n",
    "plt.subplot(1,2,1)\n",
    "plt.imshow(x_train[n].reshape(PATCH_SIZE, PATCH_SIZE,3 ), cmap = 'Greys')\n",
    "plt.subplot(1,2,2)\n",
    "plt.imshow(y_train[n].reshape(PATCH_SIZE, PATCH_SIZE), cmap = 'Greys')"
   ]
  },
  {
   "cell_type": "code",
   "execution_count": null,
   "metadata": {},
   "outputs": [],
   "source": []
  },
  {
   "cell_type": "code",
   "execution_count": null,
   "metadata": {},
   "outputs": [],
   "source": []
  }
 ],
 "metadata": {
  "kernelspec": {
   "display_name": "Python [conda env:ml] *",
   "language": "python",
   "name": "conda-env-ml-py"
  },
  "language_info": {
   "codemirror_mode": {
    "name": "ipython",
    "version": 3
   },
   "file_extension": ".py",
   "mimetype": "text/x-python",
   "name": "python",
   "nbconvert_exporter": "python",
   "pygments_lexer": "ipython3",
   "version": "3.7.4"
  }
 },
 "nbformat": 4,
 "nbformat_minor": 4
}
